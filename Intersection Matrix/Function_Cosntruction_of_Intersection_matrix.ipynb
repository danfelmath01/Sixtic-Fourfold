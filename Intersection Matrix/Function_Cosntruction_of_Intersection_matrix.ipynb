{
 "cells": [
  {
   "cell_type": "code",
   "execution_count": 1,
   "metadata": {},
   "outputs": [],
   "source": [
    "import pandas as pd \n",
    "import numpy as np\n",
    "import math\n",
    "import cmath\n",
    "from sympy import * \n",
    "import scipy.io as sio\n",
    "\n"
   ]
  },
  {
   "cell_type": "code",
   "execution_count": 2,
   "metadata": {},
   "outputs": [],
   "source": [
    "## This code read the intersection matrix of linear cycles, AS cycles, t3 cycles and build the\n",
    "## total intersection matrix.\n",
    "\n",
    "## We use the correction lc-l0, AS-6*l0, t3-12*l0, where l0 is the first linear cycle. The initial \n",
    "## of linear cycles are 1002."
   ]
  },
  {
   "cell_type": "code",
   "execution_count": 3,
   "metadata": {},
   "outputs": [],
   "source": [
    "def replace_values(list_to_replace, item_to_replace, item_to_replace_with):\n",
    "    return [item_to_replace_with if item == item_to_replace else item for item in list_to_replace]\n",
    "\n",
    "\n",
    "\n",
    "#1) Intersection matrix of linear cycles:\n",
    "ruta=open(\"Intersection_matrix_lc.txt\",\"r\")\n",
    "IMlc=ruta.read()\n",
    "IMlc=IMlc.split(\",\")\n",
    "IMlc=replace_values(IMlc,'125/6\\n','125/6')\n",
    "IMlc=np.array(IMlc)\n",
    "IMlc=np.reshape(IMlc, (1002, 1002))\n",
    "\n",
    "#2) Intersection matrix of AS cycles:\n",
    "ruta=open(\"Intersection_matrix_AS.txt\",\"r\")\n",
    "IMAS=ruta.read()\n",
    "IMAS=IMAS.split(\",\")\n",
    "IMAS=replace_values(IMAS,'60\\n','60')\n",
    "IMAS=np.array(IMAS)\n",
    "IMAS=np.reshape(IMAS, (720, 720))\n",
    "\n",
    "\n",
    "#3) Intersection matrix of t3 cycles:\n",
    "ruta=open(\"Intersection_matrix_t3.txt\",\"r\")\n",
    "IMt3=ruta.read()\n",
    "IMt3=IMt3.split(\",\")\n",
    "IMt3=replace_values(IMt3,'96\\n','96')\n",
    "IMt3=np.array(IMt3)\n",
    "IMt3=np.reshape(IMt3, (30, 30))\n",
    "\n",
    "\n",
    "#4) Intersection matrix of linear cycles with t3 cycles:\n",
    "ruta=open(\"Intersection_matrix_lc_t3.txt\",\"r\")\n",
    "IMlct3=ruta.read()\n",
    "IMlct3=IMlct3.split(\",\")\n",
    "IMlct3=replace_values(IMlct3,'-1\\n','-1')\n",
    "IMlct3=np.array(IMlct3)\n",
    "IMlct3=np.reshape(IMlct3, (1002, 30))\n",
    "\n",
    "\n"
   ]
  },
  {
   "cell_type": "code",
   "execution_count": 4,
   "metadata": {},
   "outputs": [],
   "source": [
    "## Definition of the total intersection matrix\n",
    "IM=np.zeros([1751,1751]);\n",
    "\n",
    "## linear cycles: <lc_i-l0,lc_j-l0>=<lc_i,lc_j>-<lc_i,l0>-<lc_j,l0>+<l0,l0>\n",
    "for i in range(1,1002):\n",
    "    for j in range(1,1002):\n",
    "        IM[i-1,j-1]=eval(IMlc[i,j])-eval(IMlc[i,0])-eval(IMlc[0,j])+eval(IMlc[0,0]);\n",
    "        \n",
    "## AS cycles: <AS_i-6*l0,AS_j-6*l0>=<AS_i,AS_j>+36<l0,l0>\n",
    "for i in range(720):\n",
    "    for j in range(720):\n",
    "        IM[i+1001,j+1001]=eval(IMAS[i,j])+36*eval(IMlc[0,0]);\n",
    "        \n",
    "## t3 cycles: <t3_i-12*l0,t3_j-12*l0>=<t3_i,t3_j>-12<t3_i,l0>-12<l0,t3_j>+144<l0,l0>\n",
    "for i in range(30):\n",
    "    for j in range(30):\n",
    "        IM[i+1721,j+1721]=eval(IMt3[i,j])-12*eval(IMlct3[0,i])-12*eval(IMlct3[0,j])+144*eval(IMlc[0,0]);\n",
    "        \n",
    "## linear cycles and AS cycles: <lc_i-l0,AS_j-6*l0>=-6<lc_i,l0>+6<l0,l0>\n",
    "for i in range(1,1002):\n",
    "    for j in range(720):\n",
    "        IM[i-1,j+1001]=-6*eval(IMlc[i,0])+6*eval(IMlc[0,0]);\n",
    "        IM[j+1001,i-1]=-6*eval(IMlc[i,0])+6*eval(IMlc[0,0]);\n",
    "\n",
    "## linear cycles and t3 cycles: <lc_i-l0,t3_j-12*l0>=<lc_i-t3_j>-<l0,t3_j>-12<lc_i,l0>+12<l0,l0>\n",
    "for i in range(1,1002):\n",
    "    for j in range(30):\n",
    "        IM[i-1,j+1721]=eval(IMlct3[i,j])-eval(IMlct3[0,j])-12*eval(IMlc[i,0])+12*eval(IMlc[0,0]);\n",
    "        IM[j+1721,i-1]=eval(IMlct3[i,j])-eval(IMlct3[0,j])-12*eval(IMlc[i,0])+12*eval(IMlc[0,0]);\n",
    "        \n",
    "## AS cycles and t3 cycles: <AS_i-6*l0,t3_j-12*l0>=-6<l0,t3_j>+72<l0,l0>\n",
    "for i in range(720):\n",
    "    for j in range(30):\n",
    "        IM[i+1001,j+1721]=-6*eval(IMlct3[0,j])+72*eval(IMlc[0,0]);\n",
    "        IM[j+1721,i+1001]=-6*eval(IMlct3[0,j])+72*eval(IMlc[0,0]);\n",
    "\n",
    "        "
   ]
  },
  {
   "cell_type": "code",
   "execution_count": 5,
   "metadata": {},
   "outputs": [],
   "source": [
    "## Definition of the total intersection matrix SIN RESTAR L0\n",
    "IM1=np.zeros([1751,1751]);\n",
    "\n",
    "## linear cycles:\n",
    "for i in range(1,1002):\n",
    "    for j in range(1,1002):\n",
    "        IM1[i-1,j-1]=eval(IMlc[i,j]);\n",
    "        \n",
    "## AS cycles: \n",
    "for i in range(720):\n",
    "    for j in range(720):\n",
    "        IM1[i+1001,j+1001]=eval(IMAS[i,j]);\n",
    "        \n",
    "## t3 cycles:\n",
    "for i in range(30):\n",
    "    for j in range(30):\n",
    "        IM1[i+1721,j+1721]=eval(IMt3[i,j]);\n",
    "        \n",
    "\n",
    "## linear cycles and t3 cycles:\n",
    "for i in range(1,1002):\n",
    "    for j in range(30):\n",
    "        IM1[i-1,j+1721]=eval(IMlct3[i,j]);\n",
    "        IM1[j+1721,i-1]=eval(IMlct3[i,j]);\n",
    "        "
   ]
  },
  {
   "cell_type": "code",
   "execution_count": 6,
   "metadata": {},
   "outputs": [
    {
     "data": {
      "text/plain": [
       "1750"
      ]
     },
     "execution_count": 6,
     "metadata": {},
     "output_type": "execute_result"
    }
   ],
   "source": [
    "np.linalg.matrix_rank(IM)"
   ]
  },
  {
   "cell_type": "code",
   "execution_count": 7,
   "metadata": {},
   "outputs": [
    {
     "data": {
      "text/plain": [
       "1751"
      ]
     },
     "execution_count": 7,
     "metadata": {},
     "output_type": "execute_result"
    }
   ],
   "source": [
    "np.linalg.matrix_rank(IM1)"
   ]
  },
  {
   "cell_type": "code",
   "execution_count": 8,
   "metadata": {},
   "outputs": [],
   "source": [
    "sio.savemat('Intersection_matrix', {\"IM\": IM })"
   ]
  },
  {
   "cell_type": "code",
   "execution_count": 9,
   "metadata": {},
   "outputs": [],
   "source": [
    "sio.savemat('Intersection_matrix_sin_correccion_de_restar_l0', {\"IM1\": IM1 })"
   ]
  },
  {
   "cell_type": "code",
   "execution_count": null,
   "metadata": {},
   "outputs": [],
   "source": []
  }
 ],
 "metadata": {
  "kernelspec": {
   "display_name": "Python 3",
   "language": "python",
   "name": "python3"
  },
  "language_info": {
   "codemirror_mode": {
    "name": "ipython",
    "version": 3
   },
   "file_extension": ".py",
   "mimetype": "text/x-python",
   "name": "python",
   "nbconvert_exporter": "python",
   "pygments_lexer": "ipython3",
   "version": "3.7.3"
  }
 },
 "nbformat": 4,
 "nbformat_minor": 2
}

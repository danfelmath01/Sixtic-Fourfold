{
 "cells": [
  {
   "cell_type": "code",
   "execution_count": 1,
   "metadata": {},
   "outputs": [],
   "source": [
    "import pandas as pd \n",
    "import numpy as np\n",
    "import math\n",
    "import cmath\n",
    "import scipy.io as sio\n",
    "import random\n",
    "from multiprocessing import Pool"
   ]
  },
  {
   "cell_type": "code",
   "execution_count": 2,
   "metadata": {},
   "outputs": [],
   "source": [
    "## Loading of ideal: Ideal of algebraic cycles, Ideal of the sum of coefficients for the monomial a_i\n",
    "### This is part is without the correction\n",
    "\n",
    "#ruta=open(\"Ideal_sum_of_coeff_of_alg_cycles_matrix_without_the_correction.txt\",\"r\")\n",
    "#Idictm0=ruta.read()\n",
    "#Idictm0=Idictm0.split(\",\")\n",
    "#Idictm0=np.array(Idictm0)\n",
    "#Idictm0=np.reshape(Idictm0, (1751, 1751))\n",
    "\n",
    "#x=2**(1/3)\n",
    "#y=cmath.exp(2j*math.pi/12)\n",
    "#z=x+y\n",
    "\n",
    "## Evaluation of Idictm in z\n",
    "#IdictEv0=np.zeros((1751,1751), dtype=complex)\n",
    "#for i in range(0,1751):\n",
    " #   for k in range(0,1751):\n",
    "  #      IdictEv0[i,k]=eval(Idictm0[i,k].replace(\"^\", \"**\"))\n",
    "#np.savetxt('Ideal_sum_of_coeff_of_alg_cycles_matrix_evaluated_in_z_without_the_correction.txt', IdictEv0)"
   ]
  },
  {
   "cell_type": "code",
   "execution_count": 3,
   "metadata": {},
   "outputs": [],
   "source": [
    "## Loading of ideal: Ideal of algebraic cycles, Ideal of the sum of coefficients for the monomial a_i\n",
    "### This is part is with the correction\n",
    "\n",
    "#ruta=open(\"Ideal_sum_of_coeff_of_alg_cycles_matrix_with_the_correction.txt\",\"r\")\n",
    "#Idictm1=ruta.read()\n",
    "#Idictm1=Idictm1.split(\",\")\n",
    "#Idictm1=np.array(Idictm1)\n",
    "#Idictm1=np.reshape(Idictm1, (1751, 1751))\n",
    "\n",
    "#x=2**(1/3)\n",
    "#y=cmath.exp(2j*math.pi/12)\n",
    "#z=x+y\n",
    "\n",
    "## Evaluation of Idictm in z\n",
    "#IdictEv1=np.zeros((1751,1751), dtype=complex)\n",
    "#for i in range(0,1751):\n",
    " #   for k in range(0,1751):\n",
    "  #      IdictEv1[i,k]=eval(Idictm1[i,k].replace(\"^\", \"**\"))\n",
    "#np.savetxt('Ideal_sum_of_coeff_of_alg_cycles_matrix_evaluated_in_z_with_the_correction.txt', IdictEv1)"
   ]
  },
  {
   "cell_type": "code",
   "execution_count": 4,
   "metadata": {},
   "outputs": [],
   "source": [
    "##Loading the Ideal dictionary evaluated in z=x+y, where x=2**(1/3) y=cmath.exp(2j*math.pi/12)\n",
    "\n",
    "### Warning: Modify this rute:\n",
    "ruta='Ideal_sum_of_coeff_of_alg_cycles_matrix_evaluated_in_z_without_the_correction.txt'\n",
    "IdictEv0=np.loadtxt(ruta,dtype=complex) ## without the correction\n",
    "\n",
    "ruta='Ideal_sum_of_coeff_of_alg_cycles_matrix_evaluated_in_z_with_the_correction.txt'\n",
    "IdictEv1=np.loadtxt(ruta,dtype=complex) ## with the correction\n"
   ]
  },
  {
   "cell_type": "code",
   "execution_count": 5,
   "metadata": {},
   "outputs": [],
   "source": [
    "## Loading the matrix associated with the monomials a_i\n",
    "\n",
    "### Warning: Modify this rute:\n",
    "ruta=\"matrix_monomial_degree_12_in_numbers.txt\"\n",
    "###\n",
    "\n",
    "Rr=open(ruta,\"r\")\n",
    "Mmon=Rr.read()\n",
    "Mmon=Mmon.replace('0\\n','0');\n",
    "Mmon=Mmon.split(\",\")\n",
    "Mmon=np.array(Mmon)\n",
    "Mmon=np.reshape(Mmon, (426, 426))\n",
    "#print(Mmon[0:15,0:15])"
   ]
  },
  {
   "cell_type": "code",
   "execution_count": 7,
   "metadata": {},
   "outputs": [],
   "source": [
    "## Loading  matriz A associated to xtAx<=216\n",
    "\n",
    "### Warning: Modify this rute:\n",
    "ruta='.../Intersection_matrix.mat'\n",
    "###\n",
    "\n",
    "##La matriz A, con la correccion del ciclo lineal\n",
    "mat = sio.loadmat(ruta)\n",
    "#I0=mat['IMalg']\n",
    "I0=mat['IM']\n",
    "A1 = np.asmatrix(I0)       ## with the correction\n",
    "\n",
    "\n",
    "\n",
    "##La matriz A, sin la correccion del ciclo lineal\n",
    "ruta='.../Intersection_matrix_without_the_translation.mat';\n",
    "mat = sio.loadmat(ruta)\n",
    "#I0=mat['IMalg']\n",
    "I1=mat['IM1']\n",
    "A0 = np.asmatrix(I1)      ## without the correction\n",
    "\n"
   ]
  },
  {
   "cell_type": "code",
   "execution_count": 8,
   "metadata": {},
   "outputs": [],
   "source": [
    "## Function which computes the matrix of monomial evaluated in the point [c(1)...c(1751)]\n",
    "def computation_monomial_matriz(IalgEv,Mmon,IdictEv):\n",
    "    ## Evaluation of Ideal of the sum of coefficients for the monomial a_i\n",
    "    v=np.transpose(np.asmatrix(IalgEv));\n",
    "    Evaluation=IdictEv*v;\n",
    "    \n",
    "    ## Construction of matrix of monomials\n",
    "    Meval=np.zeros((426,426), dtype=complex)\n",
    "    for k in range(426):\n",
    "        for l in range(426):\n",
    "            Mkl=int(Mmon[k,l])\n",
    "            if Mkl>0:\n",
    "                Meval[k,l]=Evaluation[Mkl-1]\n",
    "    return Meval\n"
   ]
  },
  {
   "cell_type": "code",
   "execution_count": 10,
   "metadata": {},
   "outputs": [
    {
     "name": "stdout",
     "output_type": "stream",
     "text": [
      "The rank are:\n",
      "426 426\n",
      "The Norm are:\n",
      "312.0 312.0\n"
     ]
    }
   ],
   "source": [
    "\n",
    "##### INPUTS########\n",
    "\n",
    "\n",
    "\n",
    "IalgEv=np.zeros((1751,), dtype=int)\n",
    "\n",
    "\n",
    "\n",
    "#N=6\n",
    "\n",
    "#(1,0,2)\n",
    "LL= [993, 281, 1721, 1738, 1743, 1725] ### Shift: L1= [230, 561, 281] Norm (G+G0): 293.5 Norm G: 316.0\n",
    "\n",
    "\n",
    "\n",
    "#(2,0,2)\n",
    "N=8\n",
    "LL= [840, 922, 659, 761, 1744, 1748, 1728, 1723]#Shift:L1= [168, 594, 922] Norm (G+G0): 293.5 Norm G: 312.0\n",
    "\n",
    "\n",
    "IalgEv=np.zeros((1751,), dtype=int)\n",
    "for k in range(N):\n",
    "    IalgEv[LL[k]]=(-1)**k;\n",
    "\n",
    "##### Computing the determinant and the norm\n",
    "M0=computation_monomial_matriz(IalgEv,Mmon,IdictEv0) ## without the correction\n",
    "M1=computation_monomial_matriz(IalgEv,Mmon,IdictEv1) ## with the correction\n",
    "\n",
    "\n",
    "R0= np.linalg.matrix_rank(M0)\n",
    "R1= np.linalg.matrix_rank(M1)\n",
    "\n",
    "\n",
    "print(\"The rank are:\")\n",
    "print(R0, R1)\n",
    "\n",
    "\n",
    "vt=np.asmatrix(IalgEv)\n",
    "v=np.transpose(vt)\n",
    "Norma0=vt*A0*v\n",
    "Norma1=vt*A1*v\n",
    "\n",
    "print(\"The Norm are:\")\n",
    "print(float(Norma0), float(Norma1))\n",
    "\n",
    "B=np.zeros((N,N), dtype=float)\n",
    "for i in range(N):\n",
    "    for j in range(N):\n",
    "        B[i,j]=A0[LL[i],LL[j]]\n",
    "v0=np.zeros((N,), dtype=int); \n",
    "for k in range(N):\n",
    "    v0[k]=(-1)**k;\n",
    "v0=np.asmatrix(v0);\n",
    "v0t=np.transpose(v0)"
   ]
  },
  {
   "cell_type": "code",
   "execution_count": 10,
   "metadata": {},
   "outputs": [
    {
     "name": "stdout",
     "output_type": "stream",
     "text": [
      "[[ 20.83333333  -0.16666667  -0.16666667  -0.16666667  -1.\n",
      "    0.          -1.           1.        ]\n",
      " [ -0.16666667  20.83333333  -4.16666667   0.83333333   0.\n",
      "    0.          -2.          -2.        ]\n",
      " [ -0.16666667  -4.16666667  20.83333333  -0.16666667   0.\n",
      "    2.           2.           4.        ]\n",
      " [ -0.16666667   0.83333333  -0.16666667  20.83333333   4.\n",
      "    0.           0.           0.        ]\n",
      " [ -1.           0.           0.           4.          96.\n",
      "   12.           0.          24.        ]\n",
      " [  0.           0.           2.           0.          12.\n",
      "   96.           0.         -12.        ]\n",
      " [ -1.          -2.           2.           0.           0.\n",
      "    0.          96.          24.        ]\n",
      " [  1.          -2.           4.           0.          24.\n",
      "  -12.          24.          96.        ]]\n",
      "[[312.]]\n"
     ]
    }
   ],
   "source": [
    "\n",
    "B=np.zeros((N,N), dtype=float)\n",
    "for i in range(N):\n",
    "    for j in range(N):\n",
    "        B[i,j]=A0[LL[i],LL[j]]\n",
    "print(B)\n",
    "\n",
    "v0=np.zeros((N,), dtype=int); \n",
    "for k in range(N):\n",
    "    v0[k]=(-1)**k;\n",
    "v0=np.asmatrix(v0);\n",
    "v0t=np.transpose(v0)\n",
    "print(v0*B*v0t)"
   ]
  },
  {
   "cell_type": "code",
   "execution_count": 11,
   "metadata": {},
   "outputs": [
    {
     "name": "stdout",
     "output_type": "stream",
     "text": [
      "[[  42.   21.   21.   21.  251.  252.  251.  253.]\n",
      " [  21.   42.   17.   22.  252.  252.  250.  250.]\n",
      " [  21.   17.   42.   21.  252.  254.  254.  256.]\n",
      " [  21.   22.   21.   42.  256.  252.  252.  252.]\n",
      " [ 251.  252.  252.  256. 3096. 3012. 3000. 3024.]\n",
      " [ 252.  252.  254.  252. 3012. 3096. 3000. 2988.]\n",
      " [ 251.  250.  254.  252. 3000. 3000. 3096. 3024.]\n",
      " [ 253.  250.  256.  252. 3024. 2988. 3024. 3096.]]\n",
      "[[312.]]\n"
     ]
    }
   ],
   "source": [
    "B=np.zeros((N,N), dtype=float)\n",
    "for i in range(N):\n",
    "    for j in range(N):\n",
    "        B[i,j]=A1[LL[i],LL[j]]\n",
    "print(B)\n",
    "\n",
    "v0=np.zeros((N,), dtype=int); \n",
    "for k in range(N):\n",
    "    v0[k]=(-1)**k;\n",
    "v0=np.asmatrix(v0);\n",
    "v0t=np.transpose(v0)\n",
    "print(v0*B*v0t)"
   ]
  },
  {
   "cell_type": "code",
   "execution_count": 12,
   "metadata": {},
   "outputs": [
    {
     "name": "stdout",
     "output_type": "stream",
     "text": [
      "Norma= [[293.5]]\n",
      "Rank= 426\n"
     ]
    }
   ],
   "source": [
    "\n",
    "## Constructing a G-flux\n",
    "#N=6;\n",
    "#LL= [993, 281, 1721, 1738, 1743, 1725] ### Shift: L1= [230, 561, 281] Norm (G+G0): 293.5 Norm G: 316.0\n",
    "\n",
    "N=8;\n",
    "LL= [840, 922, 659, 761, 1744, 1748, 1728, 1723] #Shift:L1= [168, 594, 922] Norm (G+G0): 293.5 Norm G: 312.0\n",
    "\n",
    "IalgEv=np.zeros((1751,), dtype=int)\n",
    "for k in range(N):\n",
    "    IalgEv[LL[k]]=(-1)**k;\n",
    "    \n",
    "L1= [168, 594, 922] \n",
    "CycleL0=np.zeros((1751,), dtype=int); \n",
    "CycleL0[L1[0]]= CycleL0[L1[0]]+1; CycleL0[L1[1]]=CycleL0[L1[1]]+1; CycleL0[L1[2]]=CycleL0[L1[2]]+1;\n",
    "Cycleshift=np.zeros((1751,), dtype=int);\n",
    "Cycleshift=IalgEv+CycleL0;\n",
    "\n",
    "##### Computing the determinant and the norm\n",
    "vt=np.asmatrix(Cycleshift); v=np.transpose(vt);\n",
    "Norma=vt*A0*v;\n",
    "print(\"Norma=\",Norma)\n",
    "\n",
    "\n",
    "M0=computation_monomial_matriz(Cycleshift,Mmon,IdictEv0) ## without the correction\n",
    "R0= np.linalg.matrix_rank(M0)\n",
    "print(\"Rank=\",R0)"
   ]
  },
  {
   "cell_type": "code",
   "execution_count": null,
   "metadata": {},
   "outputs": [],
   "source": []
  }
 ],
 "metadata": {
  "kernelspec": {
   "display_name": "Python 3",
   "language": "python",
   "name": "python3"
  },
  "language_info": {
   "codemirror_mode": {
    "name": "ipython",
    "version": 3
   },
   "file_extension": ".py",
   "mimetype": "text/x-python",
   "name": "python",
   "nbconvert_exporter": "python",
   "pygments_lexer": "ipython3",
   "version": "3.7.3"
  }
 },
 "nbformat": 4,
 "nbformat_minor": 2
}
